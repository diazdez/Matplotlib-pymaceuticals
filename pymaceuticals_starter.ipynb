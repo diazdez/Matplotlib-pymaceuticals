{
 "cells": [
  {
   "cell_type": "markdown",
   "metadata": {},
   "source": [
    "## Pymaceuticals: Observations and Insights "
   ]
  },
  {
   "cell_type": "markdown",
   "metadata": {},
   "source": []
  },
  {
   "cell_type": "code",
   "execution_count": null,
   "metadata": {},
   "outputs": [],
   "source": [
    "# Dependencies and Setup\n",
    "import matplotlib.pyplot as plt\n",
    "import pandas as pd\n",
    "import scipy.stats as st\n",
    "import numpy as np\n",
    "\n",
    "# Study data files\n",
    "mouse_metadata_path = \"Mouse_metadata.csv\"\n",
    "study_results_path = \"Study_results.csv\"\n",
    "\n",
    "\n",
    "# Read the mouse data and the study results\n",
    "mouse_metadata = pd.read_csv(mouse_metadata_path)\n",
    "study_results = pd.read_csv(study_results_path)\n",
    "\n",
    "# Combine the data into a single dataset\n",
    "\n",
    "combined_data= pd.merge(study_results, mouse_metadata, on = \"Mouse ID\")\n",
    "\n",
    "\n",
    "# Display the data table for preview\n",
    "\n",
    "combined_data\n",
    "\n"
   ]
  },
  {
   "cell_type": "code",
   "execution_count": null,
   "metadata": {},
   "outputs": [],
   "source": [
    "# Checking the number of mice.\n",
    "\n",
    "#total number of mice listed in the merged df: \n",
    "total_mice_count = combined_data[\"Mouse ID\"].count()\n",
    "total_mice_count\n",
    "\n",
    "#number of unique mice: \n",
    "unique_mice_count = len(combined_data[\"Mouse ID\"].unique())\n",
    "unique_mice_count\n",
    "\n",
    "\n",
    "print(str(unique_mice_count) + \" unique mice count\")\n"
   ]
  },
  {
   "cell_type": "code",
   "execution_count": null,
   "metadata": {},
   "outputs": [],
   "source": [
    "# Getting the duplicate mice by ID number that shows up for Mouse ID and Timepoint. \n",
    "\n",
    "duplicate_mice = combined_data.loc[combined_data.duplicated(subset=[\"Mouse ID\", \"Timepoint\"]),\"Mouse ID\"].unique()\n",
    "print(duplicate_mice)\n"
   ]
  },
  {
   "cell_type": "code",
   "execution_count": null,
   "metadata": {},
   "outputs": [],
   "source": [
    "# Optional: Get all the data for the duplicate mouse ID. \n",
    "\n",
    "# g989 = was the only duplicate Mouse ID result\n",
    "\n",
    "duplicate_mouseid = combined_data[combined_data[\"Mouse ID\"]== \"g989\"]\n",
    "# duplicate_mouseid\n",
    "duplicate_mouseid.count()\n",
    "\n",
    "\n"
   ]
  },
  {
   "cell_type": "code",
   "execution_count": null,
   "metadata": {},
   "outputs": [],
   "source": [
    "# Create a clean DataFrame by dropping the duplicate mouse by its ID.\n",
    "# --Removing duplicate_mice (which is only Mouse ID: g989) \n",
    "\n",
    "clean_data = combined_data[combined_data[\"Mouse ID\"]!= \"g989\"]\n",
    "clean_data"
   ]
  },
  {
   "cell_type": "code",
   "execution_count": null,
   "metadata": {},
   "outputs": [],
   "source": [
    "# Checking the number of mice in the clean DataFrame.\n",
    "# new df= clean_data\n",
    "\n",
    "unique_mice_count = len(clean_data[\"Mouse ID\"].unique())\n",
    "unique_mice_count\n"
   ]
  },
  {
   "cell_type": "markdown",
   "metadata": {},
   "source": [
    "## Summary Statistics"
   ]
  },
  {
   "cell_type": "code",
   "execution_count": null,
   "metadata": {},
   "outputs": [],
   "source": [
    "# Generate a summary statistics table of: \n",
    "# mean, median, variance, standard deviation, and SEM of the tumor volume for each regimen\n",
    "\n",
    "# Use groupby and summary statistical methods to \n",
    "# calculate the following properties of each drug regimen: \n",
    "#   mean, median, variance, standard deviation, and SEM of the tumor volume. \n",
    "\n",
    "summary_data = clean_data[[\"Drug Regimen\", \"Tumor Volume (mm3)\"]]\n",
    "groupby_data = summary_data.groupby([\"Drug Regimen\"])\n",
    "\n",
    "mean = groupby_data[\"Tumor Volume (mm3)\"].mean() \n",
    "median = groupby_data[\"Tumor Volume (mm3)\"].median() \n",
    "variance = groupby_data[\"Tumor Volume (mm3)\"].var() \n",
    "std_dev = groupby_data[\"Tumor Volume (mm3)\"].std() \n",
    "sem = groupby_data[\"Tumor Volume (mm3)\"].sem() \n",
    "\n",
    "# note, confirm the # of DrugRegimens: print(clean_data[\"Drug Regimen\"].unique()) \n",
    "# Assemble the resulting series into a single summary dataframe.\n",
    "\n",
    "summary_stat = {\n",
    "    \"Tumor Volume MEAN\": mean,\n",
    "    \"Tumor Volume MEDIAN\": median,\n",
    "    \"Tumor Volume VARIANCE\":variance,\n",
    "    \"Tumor Volume STD DEVIATION\": std_dev,\n",
    "    \"Tumor Volume SEM\":sem\n",
    "}\n",
    "\n",
    "summary_stat_df= pd.DataFrame(summary_stat)\n",
    "summary_stat_df"
   ]
  },
  {
   "cell_type": "code",
   "execution_count": null,
   "metadata": {},
   "outputs": [],
   "source": [
    "# Generate a summary statistics table of: \n",
    "# mean, median, variance, standard deviation, and SEM of the tumor volume for each regimen\n",
    "\n",
    "# Using the aggregation method, produce the same summary statistics in a single line\n"
   ]
  },
  {
   "cell_type": "markdown",
   "metadata": {},
   "source": [
    "## Bar and Pie Charts"
   ]
  },
  {
   "cell_type": "code",
   "execution_count": null,
   "metadata": {},
   "outputs": [],
   "source": [
    "# Generate a bar plot showing the total number of unique mice tested on each drug regimen using pandas.\n",
    "\n",
    "# df for \"Drug Regimen\" column values\n",
    "drug_regimen = clean_data[\"Drug Regimen\"].value_counts()\n",
    "# print(drug_regimen)\n",
    "\n",
    "x_axis=drug_regimen \n",
    "y_axis=drug_regimen.count\n",
    "\n",
    "\n",
    "#chart \n",
    "drug_regimen.plot(kind=\"bar\", facecolor=\"blue\")\n",
    "\n",
    "#labels\n",
    "plt.title(\"Total number of unique mice tested on each Drug Regimen\")\n",
    "plt.xlabel(\"Drug Regimen\")\n",
    "plt.ylabel(\"Mice Tested\")\n",
    "plt.xticks(rotation=70)\n",
    "plt.tight_layout()\n",
    "\n",
    "plt.show()\n"
   ]
  },
  {
   "cell_type": "code",
   "execution_count": null,
   "metadata": {},
   "outputs": [],
   "source": [
    "# Generate a bar plot showing the total number of unique mice tested on each drug regimen using pyplot.\n",
    "\n",
    "# using same df for \"Drug Regimen\" as above\n",
    "drug_regimen = clean_data[\"Drug Regimen\"].value_counts()\n",
    "\n",
    "y_axis=drug_regimen.values\n",
    "x_axis=np.arange(0,len(y_axis),1)\n",
    "x_drugs=drug_regimen.index\n",
    "                 \n",
    "#Matplotlib\n",
    "plt.bar(x_drugs, y_axis, color='blue', alpha=0.75, align= \"center\", width= .33)\n",
    "\n",
    "#labels \n",
    "plt.title(\"Total number of unique mice tested on each Drug Regimen\")\n",
    "plt.xlabel(\"Drug Regimen\")\n",
    "plt.ylabel(\"Mice Tested\")\n",
    "plt.xticks(rotation=90)\n",
    "plt.show()\n"
   ]
  },
  {
   "cell_type": "code",
   "execution_count": null,
   "metadata": {},
   "outputs": [],
   "source": [
    "# Generate a pie plot showing the distribution of female versus male mice using pandas\n",
    "\n",
    "# dataframe grouping by the 'Sex' Column\n",
    "\n",
    "gender_count = clean_data[\"Sex\"].value_counts()\n",
    "# print(gender_count)\n",
    "\n",
    "gender_count.plot(kind='pie',title=\"Distribution of female versus male mice\", \\\n",
    "                  startangle=150,autopct='%1.1f%%',shadow=True, fontsize=16, colors =[\"Blue\",\"Orange\"],legend =False)\n",
    "plt.axis(\"equal\")\n",
    "plt.show()\n"
   ]
  },
  {
   "cell_type": "code",
   "execution_count": null,
   "metadata": {},
   "outputs": [],
   "source": [
    "# Generate a pie plot showing the distribution of female versus male mice using pyplot\n",
    "\n",
    "# using same df as Pie Graph above\n",
    "gender_count = clean_data[\"Sex\"].value_counts()\n",
    "\n",
    "#create labels\n",
    "labels = gender_count.index \n",
    "\n",
    "#values of each section\n",
    "sizes=gender_count.values\n",
    "\n",
    "#assign colors\n",
    "colors = [\"blue\", \"orange\"]\n",
    "\n",
    "plt.pie(gender_count, labels=labels, colors=colors,\n",
    "        autopct=\"%1.1f%%\", shadow=True, startangle=150)\n",
    "plt.rcParams['font.size'] = 16\n",
    "plt.title(\"Distribution of female versus male mice\")\n",
    "plt.ylabel(\"Sex\")\n",
    "plt.axis(\"equal\")\n",
    "plt.show()\n",
    "\n"
   ]
  },
  {
   "cell_type": "markdown",
   "metadata": {},
   "source": [
    "## Quartiles, Outliers and Boxplots"
   ]
  },
  {
   "cell_type": "code",
   "execution_count": null,
   "metadata": {},
   "outputs": [],
   "source": [
    "# Calculate the final tumor volume of each mouse across four of the treatment regimens:  \n",
    "# Capomulin, Ramicane, Infubinol, and Ceftamin\n",
    "\n",
    "# Start by getting the last (greatest) timepoint for each mouse\n",
    "# Merge this group df with the original dataframe to get the tumor volume at the last timepoint\n",
    "\n",
    "\n",
    "regimen_4drugs= clean_data[(clean_data[\"Drug Regimen\"] == \"Capomulin\") | \n",
    "                          (clean_data[\"Drug Regimen\"] == \"Ramicane\") | \n",
    "                          (clean_data[\"Drug Regimen\"] == \"Infubinol\") | \n",
    "                          (clean_data[\"Drug Regimen\"] == \"Ceftamin\")]\n",
    "\n",
    "\n",
    "regimen_4drugs_data = regimen_4drugs.groupby(['Drug Regimen','Mouse ID']).agg(Tumor_size=('Tumor Volume (mm3)',lambda x: x.iloc[-1]))\n",
    "regimen_4drugs_data\n",
    "\n",
    "\n"
   ]
  },
  {
   "cell_type": "code",
   "execution_count": null,
   "metadata": {},
   "outputs": [],
   "source": [
    "# Put treatments into a list for for loop (and later for plot labels)\n",
    "# Create empty list to fill with tumor vol data (for plotting)\n",
    "\n",
    "# Calculate the IQR and quantitatively determine if there are any potential outliers. \n",
    "    # Locate the rows which contain mice on each drug and get the tumor volumes\n",
    "    # add subset   \n",
    "    # Determine outliers using upper and lower bounds\n",
    "    \n",
    "    \n",
    "regimen_list = ['Capomulin', 'Ramicane', 'Infubinol', 'Ceftamin']\n",
    "\n",
    "regimen_4drugs_unstack = regimen_4drugs_data.stack(level=0).unstack(level=0)\n",
    "regimen_4drugs_unstack.head()\n",
    "\n",
    "\n",
    "Counter = 0\n",
    "for drug in regimen_list:\n",
    "    quartiles = regimen_4drugs_unstack[drug].quantile([.25,.5,.75]) \n",
    "    lowerq = quartiles[0.25] \n",
    "    upperq = quartiles[0.75] \n",
    "    iqr = upperq-lowerq\n",
    "    lower_bound = lowerq - (1.5*iqr)\n",
    "    upper_bound = upperq + (1.5*iqr)\n",
    "    \n",
    "    if counter == 0:\n",
    "        print(f\"--------------------------------------------------------\")\n",
    "    print(f\"Drug Regime {drug} IQR data is:\")\n",
    "    print(f\"The lower quartile of {drug} is: {lowerq}\")\n",
    "    print(f\"The upper quartile of {drug} is: {upperq}\")\n",
    "    print(f\"The interquartile range of {drug} is: {iqr}\")\n",
    "    print(f\"Values below {lower_bound} for {drug} could be outliers.\")\n",
    "    print(f\"Values above {upper_bound} for {drug} could be outliers.\")\n",
    "    print(f\"--------------------------------------------------------\")\n",
    "    counter += 1\n",
    "    "
   ]
  },
  {
   "cell_type": "code",
   "execution_count": null,
   "metadata": {},
   "outputs": [],
   "source": [
    "# Generate a box plot of the final tumor volume of each mouse across four regimens of interest\n",
    "\n",
    "box_plot = []\n",
    "#Note: unstack df contains \"NaN\" data that must not be plotted\n",
    "\n",
    "for drug in regimen_list:\n",
    "    box_plot.append(list(regimen_4drugs_unstack[drug].dropna()))\n",
    "    \n",
    "fig1, ax = plt.subplots()\n",
    "ax.set_title(\"Final Tumor Volumes by Drug Regimen\")\n",
    "ax.set_xlabel(\"Drug Regimen\")\n",
    "ax.set_c(\"Tumor Volume (mm3)\")\n",
    "ax.boxplot(box_plot,notch=0,sym='red')\n",
    "plt.xticks([1,2,3,4],labels=regimen_list, rotation='45')\n",
    "\n",
    "plt.title(\"Final Tumor Volumes\")\n",
    "plt.ylabel(\"Tumor Volume (mm3)\")\n",
    "plt.show()"
   ]
  },
  {
   "cell_type": "markdown",
   "metadata": {},
   "source": [
    "## Line and Scatter Plots"
   ]
  },
  {
   "cell_type": "code",
   "execution_count": null,
   "metadata": {},
   "outputs": [],
   "source": [
    "# Generate a line plot of tumor volume vs. time point for a mouse treated with Capomulin\n",
    "\n",
    "capomulin_data = clean_data.loc[combined_data['Drug Regimen'] == 'Capomulin']\n",
    "capomulin_data.tail(20)\n",
    "\n",
    "# selected mouse id m601\n",
    "mouse_one = clean_data.loc[clean_data['Mouse ID'] == 'm601']\n",
    "mouse_one\n",
    "\n",
    "plt.plot(mouse_one[\"Timepoint\"], mouse_one[\"Tumor Volume (mm3)\"])\n",
    "plt.xlabel(\"Timepoint (Days)\")\n",
    "plt.ylabel(\"Tumor Volume (mm3)\")\n",
    "plt.title(\"Capomulin Treatment for Mouse ID m601\")\n",
    "plt.show()"
   ]
  },
  {
   "cell_type": "code",
   "execution_count": null,
   "metadata": {},
   "outputs": [],
   "source": [
    "# Generate a scatter plot of average tumor volume vs. mouse weight for the Capomulin regimen\n",
    "capomulin_mouse_weight = clean_data.loc[combined_data['Drug Regimen'] == 'Capomulin']\n",
    "\n",
    "capomulin_avg_weight = capomulin_mouse_weight.groupby([\"Mouse ID\"]).mean()\n",
    "capomulin_avg_weight\n",
    "\n",
    "plt.scatter(capomulin_avg_weight[\"Weight (g)\"],\n",
    "            capomulin_avg_weight[\"Tumor Volume (mm3)\"],\n",
    "           marker='o',\n",
    "           facecolors='blue',\n",
    "           edgecolors='black')\n",
    "plt.xlabel(\"Weight (g)\")\n",
    "plt.ylabel(\"Tumor Volume (mm3)\")\n",
    "plt.title(\"Weight vs Tumor Volume for Capomulin\")\n",
    "plt.show()"
   ]
  },
  {
   "cell_type": "markdown",
   "metadata": {},
   "source": [
    "## Correlation and Regression"
   ]
  },
  {
   "cell_type": "code",
   "execution_count": null,
   "metadata": {},
   "outputs": [],
   "source": [
    "# Calculate the correlation coefficient and linear regression model \n",
    "# for mouse weight and average tumor volume for the Capomulin regimen\n"
   ]
  },
  {
   "cell_type": "code",
   "execution_count": null,
   "metadata": {},
   "outputs": [],
   "source": []
  }
 ],
 "metadata": {
  "anaconda-cloud": {},
  "kernelspec": {
   "display_name": "Python 3",
   "language": "python",
   "name": "python3"
  },
  "language_info": {
   "codemirror_mode": {
    "name": "ipython",
    "version": 3
   },
   "file_extension": ".py",
   "mimetype": "text/x-python",
   "name": "python",
   "nbconvert_exporter": "python",
   "pygments_lexer": "ipython3",
   "version": "3.8.3"
  }
 },
 "nbformat": 4,
 "nbformat_minor": 4
}
